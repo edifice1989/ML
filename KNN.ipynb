{
 "cells": [
  {
   "cell_type": "code",
   "execution_count": 18,
   "metadata": {},
   "outputs": [],
   "source": [
    "import numpy as np\n",
    "from math import sqrt\n",
    "from collections import Counter\n",
    "train=[[1,2,'A'],[4,6,'B'],[4,5,'B']]\n",
    "\n",
    "test=[1,1]"
   ]
  },
  {
   "cell_type": "code",
   "execution_count": 11,
   "metadata": {},
   "outputs": [
    {
     "data": {
      "text/plain": [
       "5.0"
      ]
     },
     "execution_count": 11,
     "metadata": {},
     "output_type": "execute_result"
    }
   ],
   "source": [
    "def calculate_distance(pnt1,pnt): #return distance\n",
    "    dis = 0.0\n",
    "    for i in range(len(pnt)-1):\n",
    "        dis += (pnt1[i]-pnt[i])**2\n",
    "    dis = sqrt(dis)\n",
    "    return dis\n"
   ]
  },
  {
   "cell_type": "code",
   "execution_count": 13,
   "metadata": {},
   "outputs": [
    {
     "data": {
      "text/plain": [
       "[[1, 2, 'A'], [4, 6, 'B'], [4, 5, 'B']]"
      ]
     },
     "execution_count": 13,
     "metadata": {},
     "output_type": "execute_result"
    }
   ],
   "source": [
    "def get_neighbor(train,test,k):\n",
    "    dis = list()\n",
    "\n",
    "    for train_row in train:\n",
    "        pointwise_dis = calculate_distance(train_row,test)\n",
    "        dis.append((train_row,pointwise_dis))\n",
    "    dis.sort(key=lambda tup :tup[1])\n",
    "    neighbors = list()\n",
    "    for i in range(k):\n",
    "        neighbors.append(dis[i][0])\n",
    "    return neighbors\n",
    "\n"
   ]
  },
  {
   "cell_type": "code",
   "execution_count": 20,
   "metadata": {},
   "outputs": [
    {
     "data": {
      "text/plain": [
       "('B', 2)"
      ]
     },
     "execution_count": 20,
     "metadata": {},
     "output_type": "execute_result"
    }
   ],
   "source": [
    "def pred_classification(train,test,k):\n",
    "    top_k_array = get_neighbor(train,test,3)\n",
    "    vote = [row[-1] for row in top_k_array]\n",
    "    most_common_element, count = Counter(vote).most_common(1)[0]\n",
    "    return most_common_element,count\n",
    "pred_classification(train,test,k=3)"
   ]
  }
 ],
 "metadata": {
  "kernelspec": {
   "display_name": "Python 3",
   "language": "python",
   "name": "python3"
  },
  "language_info": {
   "codemirror_mode": {
    "name": "ipython",
    "version": 3
   },
   "file_extension": ".py",
   "mimetype": "text/x-python",
   "name": "python",
   "nbconvert_exporter": "python",
   "pygments_lexer": "ipython3",
   "version": "3.10.8"
  }
 },
 "nbformat": 4,
 "nbformat_minor": 2
}
